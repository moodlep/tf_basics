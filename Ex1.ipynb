{
 "cells": [
  {
   "cell_type": "code",
   "execution_count": 1,
   "metadata": {
    "collapsed": true
   },
   "outputs": [],
   "source": [
    "import tensorflow as tf\n"
   ]
  },
  {
   "cell_type": "code",
   "execution_count": 15,
   "metadata": {
    "collapsed": true
   },
   "outputs": [],
   "source": [
    "# Setup constants \n",
    "training_steps = 1000\n",
    "learning_rate = 0.0000001\n",
    "\n",
    "# initialize variables/model parameters\n",
    "weights = tf.Variable(tf.truncated_normal([2,1]), name='weights')\n",
    "bias = tf.Variable(0.0, name='biases')"
   ]
  },
  {
   "cell_type": "code",
   "execution_count": null,
   "metadata": {
    "collapsed": true
   },
   "outputs": [],
   "source": [
    "# define the training loop operations"
   ]
  },
  {
   "cell_type": "code",
   "execution_count": 8,
   "metadata": {
    "collapsed": true
   },
   "outputs": [],
   "source": [
    "def inputs():\n",
    "    # return the input training data X and expected outputs Y\n",
    "    weight_age = [[84, 46], [73, 20], [65, 52], [70, 30], [76, 57], [69, 25], [63, 28], [72, 36], [79, 57], [75, 44], [27, 24], [89, 31], [65, 52], [57, 23], [59, 60], [69, 48], [60, 34], [79, 51], [75, 50], [82, 34], [59, 46], [67, 23], [85, 37], [55, 40], [63, 30]]\n",
    "    blood_fat_content = [354, 190, 405, 263, 451, 302, 288, 385, 402, 365, 209, 290, 346, 254, 395, 434, 220, 374, 308, 220, 311, 181, 274, 303, 244]\n",
    "\n",
    "    return tf.to_float(weight_age), tf.to_float(blood_fat_content)"
   ]
  },
  {
   "cell_type": "code",
   "execution_count": 9,
   "metadata": {
    "collapsed": true
   },
   "outputs": [],
   "source": [
    "def inference(X):\n",
    "    # compute and return inference model (predicted or score value) over data X \n",
    "    h = tf.matmul(X, weights) + bias\n",
    "    return h"
   ]
  },
  {
   "cell_type": "code",
   "execution_count": 10,
   "metadata": {
    "collapsed": true
   },
   "outputs": [],
   "source": [
    "def loss(X, Y):\n",
    "    # compute loss/cost between predictions and expected outputs Y\n",
    "    return tf.reduce_sum(tf.squared_difference(Y, inference(X)))\n"
   ]
  },
  {
   "cell_type": "code",
   "execution_count": 11,
   "metadata": {
    "collapsed": true
   },
   "outputs": [],
   "source": [
    "def train(total_loss):\n",
    "    # train / adjust model parameters according to computed total loss\n",
    "    optimizer = tf.train.GradientDescentOptimizer(learning_rate)\n",
    "    train = optimizer.minimize(total_loss)\n",
    "    return train"
   ]
  },
  {
   "cell_type": "code",
   "execution_count": 13,
   "metadata": {
    "collapsed": false
   },
   "outputs": [],
   "source": [
    "def evaluate(sess, X, Y):\n",
    "    # evaluate the resulting trained model\n",
    "    #print \"predicted value\" + sess.run(inference(X))... this needs more expansion\n",
    "    return 1\n"
   ]
  },
  {
   "cell_type": "code",
   "execution_count": 16,
   "metadata": {
    "collapsed": false
   },
   "outputs": [
    {
     "name": "stdout",
     "output_type": "stream",
     "text": [
      "loss:  [7521182.5]\n",
      "loss:  [5518661.0]\n",
      "loss:  [5473882.0]\n",
      "loss:  [5440409.5]\n",
      "loss:  [5415380.5]\n",
      "loss:  [5396657.0]\n",
      "loss:  [5382643.0]\n",
      "loss:  [5372145.5]\n",
      "loss:  [5364276.0]\n",
      "loss:  [5358367.5]\n",
      "loss:  [5353925.5]\n",
      "loss:  [5350576.0]\n",
      "loss:  [5348044.0]\n",
      "loss:  [5346122.5]\n",
      "loss:  [5344657.5]\n",
      "loss:  [5343531.5]\n",
      "loss:  [5342663.0]\n",
      "loss:  [5341981.0]\n",
      "loss:  [5341441.0]\n",
      "loss:  [5341009.0]\n",
      "loss:  [5340653.5]\n",
      "loss:  [5340359.5]\n",
      "loss:  [5340109.0]\n",
      "loss:  [5339890.0]\n",
      "loss:  [5339697.5]\n",
      "loss:  [5339523.5]\n",
      "loss:  [5339361.0]\n",
      "loss:  [5339210.5]\n",
      "loss:  [5339067.5]\n",
      "loss:  [5338928.5]\n",
      "loss:  [5338796.5]\n",
      "loss:  [5338666.5]\n",
      "loss:  [5338538.5]\n",
      "loss:  [5338414.0]\n",
      "loss:  [5338288.0]\n",
      "loss:  [5338164.5]\n",
      "loss:  [5338043.0]\n",
      "loss:  [5337920.0]\n",
      "loss:  [5337799.0]\n",
      "loss:  [5337676.5]\n",
      "loss:  [5337556.0]\n",
      "loss:  [5337435.5]\n",
      "loss:  [5337314.0]\n",
      "loss:  [5337192.5]\n",
      "loss:  [5337071.0]\n",
      "loss:  [5336952.0]\n",
      "loss:  [5336831.0]\n",
      "loss:  [5336711.0]\n",
      "loss:  [5336591.0]\n",
      "loss:  [5336470.5]\n",
      "loss:  [5336348.5]\n",
      "loss:  [5336228.5]\n",
      "loss:  [5336108.0]\n",
      "loss:  [5335987.5]\n",
      "loss:  [5335867.0]\n",
      "loss:  [5335745.5]\n",
      "loss:  [5335627.0]\n",
      "loss:  [5335506.5]\n",
      "loss:  [5335385.5]\n",
      "loss:  [5335264.0]\n",
      "loss:  [5335144.0]\n",
      "loss:  [5335024.0]\n",
      "loss:  [5334904.5]\n",
      "loss:  [5334783.0]\n",
      "loss:  [5334664.5]\n",
      "loss:  [5334543.5]\n",
      "loss:  [5334421.0]\n",
      "loss:  [5334302.0]\n",
      "loss:  [5334182.0]\n",
      "loss:  [5334061.5]\n",
      "loss:  [5333942.5]\n",
      "loss:  [5333821.5]\n",
      "loss:  [5333700.5]\n",
      "loss:  [5333580.5]\n",
      "loss:  [5333462.0]\n",
      "loss:  [5333341.0]\n",
      "loss:  [5333220.0]\n",
      "loss:  [5333100.0]\n",
      "loss:  [5332978.5]\n",
      "loss:  [5332859.0]\n",
      "loss:  [5332739.0]\n",
      "loss:  [5332619.0]\n",
      "loss:  [5332499.0]\n",
      "loss:  [5332378.5]\n",
      "loss:  [5332258.5]\n",
      "loss:  [5332138.5]\n",
      "loss:  [5332018.0]\n",
      "loss:  [5331897.5]\n",
      "loss:  [5331778.0]\n",
      "loss:  [5331658.0]\n",
      "loss:  [5331538.0]\n",
      "loss:  [5331417.0]\n",
      "loss:  [5331296.5]\n",
      "loss:  [5331176.5]\n",
      "loss:  [5331055.5]\n",
      "loss:  [5330938.5]\n",
      "loss:  [5330817.5]\n",
      "loss:  [5330697.5]\n",
      "loss:  [5330576.5]\n",
      "loss:  [5330456.5]\n"
     ]
    }
   ],
   "source": [
    "# Create a saver for saving training checkpoints \n",
    "saver = tf.train.Saver()\n",
    "\n",
    "# Launch the graph in a session, setup boilerplate\n",
    "with tf.Session() as sess:\n",
    "\n",
    "    tf.initialize_all_variables().run()\n",
    "\n",
    "    X, Y = inputs()\n",
    "\n",
    "    total_loss = loss(X, Y)\n",
    "    train_op = train(total_loss)\n",
    "\n",
    "    # Need more info on this\n",
    "    coord = tf.train.Coordinator()\n",
    "    threads = tf.train.start_queue_runners(sess=sess, coord=coord)\n",
    "\n",
    "    # actual training loop\n",
    "    \n",
    "    for step in range(training_steps):\n",
    "        sess.run([train_op])\n",
    "        # for debugging and learning purposes, see how the loss gets decremented thru training steps\n",
    "        if step % 10 == 0:\n",
    "            print \"loss: \", sess.run([total_loss])\n",
    "        # for saving training data to a checkpoint after 1000 steps.\n",
    "        if step % 1000 == 0:\n",
    "            saver.save(sess, 'my-model', global_step=step)\n",
    "\n",
    "    evaluate(sess, X, Y)\n",
    "\n",
    "    saver.save(sess, 'my-model', global_step=training_steps) # Save the checkpoint data\n",
    "\n",
    "    coord.request_stop()\n",
    "    coord.join(threads)\n",
    "    sess.close()"
   ]
  },
  {
   "cell_type": "code",
   "execution_count": null,
   "metadata": {
    "collapsed": true
   },
   "outputs": [],
   "source": []
  }
 ],
 "metadata": {
  "kernelspec": {
   "display_name": "Python 2",
   "language": "python",
   "name": "python2"
  },
  "language_info": {
   "codemirror_mode": {
    "name": "ipython",
    "version": 2
   },
   "file_extension": ".py",
   "mimetype": "text/x-python",
   "name": "python",
   "nbconvert_exporter": "python",
   "pygments_lexer": "ipython2",
   "version": "2.7.12"
  }
 },
 "nbformat": 4,
 "nbformat_minor": 0
}
