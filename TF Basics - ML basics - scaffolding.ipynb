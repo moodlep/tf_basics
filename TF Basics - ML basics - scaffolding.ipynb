{
 "cells": [
  {
   "cell_type": "markdown",
   "metadata": {},
   "source": [
    "# Scaffolding\n",
    "\n",
    "Ref: TensorFlow for Machine Intelligence, by Ariel Scarpinelli; Danijar Hafner; Erik Erwitt; Sam Abrahams; Troy Mott\n",
    "\n",
    "This is suggested scaffolding from the book referenced above. May be useful as a basis for my own structures. "
   ]
  },
  {
   "cell_type": "code",
   "execution_count": null,
   "metadata": {
    "collapsed": true
   },
   "outputs": [],
   "source": [
    "import tensorflow as tf\n",
    "\n",
    "# initialize variables/model parameters\n",
    "\n",
    "# define the training loop operations\n",
    "def inference(X):\n",
    "    # compute inference model over data X and return the result\n",
    "\n",
    "def loss(X, Y):\n",
    "    # compute loss over training data X and expected outputs Y\n",
    "\n",
    "def inputs():\n",
    "    # read/generate input training data X and expected outputs Y\n",
    "\n",
    "def train(total_loss):\n",
    "    # train / adjust model parameters according to computed total loss\n",
    "\n",
    "def evaluate(sess, X, Y):\n",
    "    # evaluate the resulting trained model\n",
    "\n",
    "# Create a saver for saving training checkpoints \n",
    "saver = tf.train.Saver()\n",
    "\n",
    "# Launch the graph in a session, setup boilerplate\n",
    "with tf.Session() as sess:\n",
    "\n",
    "    tf.initialize_all_variables().run()\n",
    "\n",
    "    X, Y = inputs()\n",
    "\n",
    "    total_loss = loss(X, Y)\n",
    "    train_op = train(total_loss)\n",
    "\n",
    "    coord = tf.train.Coordinator()\n",
    "    threads = tf.train.start_queue_runners(sess=sess, coord=coord)\n",
    "\n",
    "    # actual training loop\n",
    "    training_steps = 1000\n",
    "    for step in range(training_steps):\n",
    "        sess.run([train_op])\n",
    "        # for debugging and learning purposes, see how the loss gets decremented thru training steps\n",
    "        if step % 10 == 0:\n",
    "            print \"loss: \", sess.run([total_loss])\n",
    "        # for saving training data to a checkpoint after 1000 steps.\n",
    "        if step % 1000 == 0:\n",
    "            saver.save(sess, 'my-model', global_step=step)\n",
    "\n",
    "    evaluate(sess, X, Y)\n",
    "\n",
    "    saver.save(sess, 'my-model', global_step=training_steps) # Save the checkpoint data\n",
    "\n",
    "    coord.request_stop()\n",
    "    coord.join(threads)\n",
    "    sess.close()"
   ]
  },
  {
   "cell_type": "code",
   "execution_count": null,
   "metadata": {
    "collapsed": true
   },
   "outputs": [],
   "source": []
  }
 ],
 "metadata": {
  "kernelspec": {
   "display_name": "Python 2",
   "language": "python",
   "name": "python2"
  },
  "language_info": {
   "codemirror_mode": {
    "name": "ipython",
    "version": 2
   },
   "file_extension": ".py",
   "mimetype": "text/x-python",
   "name": "python",
   "nbconvert_exporter": "python",
   "pygments_lexer": "ipython2",
   "version": "2.7.12"
  }
 },
 "nbformat": 4,
 "nbformat_minor": 0
}
