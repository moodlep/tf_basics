{
 "cells": [
  {
   "cell_type": "code",
   "execution_count": 1,
   "metadata": {
    "collapsed": true
   },
   "outputs": [],
   "source": [
    "import tensorflow as tf\n",
    "import numpy as np"
   ]
  },
  {
   "cell_type": "code",
   "execution_count": 2,
   "metadata": {
    "collapsed": false
   },
   "outputs": [],
   "source": [
    "#Outline\n",
    "\n",
    "# GRAPH: \n",
    "graph = tf.Graph()\n",
    "\n",
    "# Define the name_scope sections \n",
    "\n",
    "with graph.as_default():\n",
    "    \n",
    "    # Name_scope: Variables\n",
    "    with tf.name_scope(\"Variables\"):\n",
    "        # Define Global variables\n",
    "        so = tf.Variable(0.0, dtype=tf.float32, name=\"sum_of_outputs\")\n",
    "        steps = tf.Variable(0, dtype=tf.int32,  name=\"step_count\")\n",
    "\n",
    "    # Name_scope: Transformation\n",
    "    with tf.name_scope(\"Transformation\"):\n",
    "        a = tf.placeholder(tf.float32, shape=None, name=\"input\")\n",
    "        b = tf.reduce_prod(a, name=\"prod\")\n",
    "        c = tf.reduce_sum(a, name=\"sum\")\n",
    "        d = tf.add(b, c, name=\"output\")\n",
    "    \n",
    "    # Name_scope: Update Variables\n",
    "    with tf.name_scope(\"Update_Variables\"):\n",
    "        sum_outputs = so.assign_add(d)\n",
    "        increment_steps = steps.assign_add(1)\n",
    "    \n",
    "    # Name_Scope: Summary_writer\n",
    "    with tf.name_scope(\"Tensorboard_Summaries\"):\n",
    "        average_summary = tf.div(so, tf.cast(steps,tf.float32), name=\"ave_summary\") \n",
    "        # create the summary values:\n",
    "        tf.scalar_summary(b\"Summary of Outputs\", d, name=\"summary_outputs\")\n",
    "        tf.scalar_summary(b\"Sum of Outputs\", so, name=\"sum_outputs\")\n",
    "        tf.scalar_summary(b\"Average of Outputs\", average_summary, name=\"average_outputs\")\n",
    "        \n",
    "    with tf.name_scope(\"global_ops\"):\n",
    "        # Initialization Op\n",
    "        init = tf.initialize_all_variables()\n",
    "        # Merge all summaries into one Operation\n",
    "        merged_summaries = tf.merge_all_summaries()\n"
   ]
  },
  {
   "cell_type": "code",
   "execution_count": 3,
   "metadata": {
    "collapsed": false
   },
   "outputs": [],
   "source": [
    "sess = tf.Session(graph=graph)\n",
    "writer = tf.train.SummaryWriter(\"./graph_stats\", graph=graph)\n",
    "sess.run(init)\n",
    "\n",
    "def run_graph(input_tensor):\n",
    "    feed_dict = {a: input_tensor}\n",
    "    output_d, steps, summaries, sum_outputs_v = sess.run([d,increment_steps,merged_summaries, sum_outputs], feed_dict=feed_dict)\n",
    "    print output_d, steps, sum_outputs_v\n",
    "    writer.add_summary(summary=summaries, global_step=steps)\n",
    "    "
   ]
  },
  {
   "cell_type": "code",
   "execution_count": 4,
   "metadata": {
    "collapsed": false
   },
   "outputs": [
    {
     "name": "stdout",
     "output_type": "stream",
     "text": [
      "26.0 1 26.0\n",
      "37.0 2 63.0\n",
      "16.0 3 79.0\n",
      "12.0 4 91.0\n",
      "59.0 5 150.0\n",
      "9.0 6 159.0\n",
      "32.0 7 191.0\n",
      "27.0 8 218.0\n",
      "2.0 9 220.0\n",
      "135.0 10 355.0\n"
     ]
    }
   ],
   "source": [
    "run_graph([2,8])\n",
    "run_graph([3,1,3,3])\n",
    "run_graph([8])\n",
    "run_graph([1,2,3])\n",
    "run_graph([11,4])\n",
    "run_graph([4,1])\n",
    "run_graph([7,3,1])\n",
    "run_graph([6,3])\n",
    "run_graph([0,2])\n",
    "run_graph([4,5,6])"
   ]
  },
  {
   "cell_type": "code",
   "execution_count": 5,
   "metadata": {
    "collapsed": true
   },
   "outputs": [],
   "source": [
    "writer.flush()\n",
    "writer.close()\n",
    "sess.close()"
   ]
  },
  {
   "cell_type": "code",
   "execution_count": null,
   "metadata": {
    "collapsed": true
   },
   "outputs": [],
   "source": []
  }
 ],
 "metadata": {
  "kernelspec": {
   "display_name": "Python 2",
   "language": "python",
   "name": "python2"
  },
  "language_info": {
   "codemirror_mode": {
    "name": "ipython",
    "version": 2
   },
   "file_extension": ".py",
   "mimetype": "text/x-python",
   "name": "python",
   "nbconvert_exporter": "python",
   "pygments_lexer": "ipython2",
   "version": "2.7.12"
  }
 },
 "nbformat": 4,
 "nbformat_minor": 0
}
